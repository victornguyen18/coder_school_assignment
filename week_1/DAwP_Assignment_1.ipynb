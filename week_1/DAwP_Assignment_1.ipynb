{
 "cells": [
  {
   "cell_type": "markdown",
   "metadata": {
    "colab_type": "text",
    "id": "IGvKPsdVfX-F"
   },
   "source": [
    "### Nguyễn Phạm Xuân Thắng - Assgiment #01"
   ]
  },
  {
   "cell_type": "markdown",
   "metadata": {
    "colab_type": "text",
    "id": "D2yU2FYDi4tj"
   },
   "source": [
    "# SQL"
   ]
  },
  {
   "cell_type": "markdown",
   "metadata": {},
   "source": [
    "**Input Format**\n",
    "\n",
    "The **CITY** table is described as follows:\n",
    "\n",
    "| Field | Type |\n",
    "|:----:|:---:|\n",
    "| ID | NUMBER |\n",
    "| NAME | VARCHAR2(17) |\n",
    "| COUNTRYCODE | VARCHAR2(3) |\n",
    "| DISTRICT | VARCHAR2(20) |\n",
    "| POPULATION | NUMBER |"
   ]
  },
  {
   "cell_type": "markdown",
   "metadata": {
    "colab_type": "text",
    "id": "gu4DDH7Ki77C"
   },
   "source": [
    "### Problem 1 - Revising the Select Query II\n",
    "\n",
    "Query the names of all American cities in CITY with populations larger than 120000. The CountryCode for America is USA.\n",
    "\n",
    "#### Link\n",
    "https://www.hackerrank.com/rest/contests/master/challenges/revising-the-select-query-2/hackers/thang181997/download_solution\n",
    "\n",
    "#### Solution\n",
    "```\n",
    "SELECT `CITY`.`NAME` FROM `CITY`\n",
    "WHERE `CITY`.`COUNTRYCODE` = 'USA' AND `CITY`.`POPULATION` > 120000\n",
    "```"
   ]
  },
  {
   "cell_type": "markdown",
   "metadata": {
    "colab_type": "text",
    "id": "gu4DDH7Ki77C"
   },
   "source": [
    "### Problem 2 - Select All\n",
    "\n",
    "Query all columns (attributes) for every row in the CITY table.\n",
    "\n",
    "#### Link\n",
    "https://www.hackerrank.com/rest/contests/master/challenges/select-all-sql/hackers/thang181997/download_solution\n",
    "#### Solution\n",
    "```\n",
    "SELECT * FROM CITY\n",
    "```"
   ]
  },
  {
   "cell_type": "markdown",
   "metadata": {
    "colab_type": "text",
    "id": "gu4DDH7Ki77C"
   },
   "source": [
    "### Problem 3 - Select By ID\n",
    "\n",
    "Query all columns for a city in CITY with the ID 1661.\n",
    "\n",
    "#### Link\n",
    "https://www.hackerrank.com/rest/contests/master/challenges/select-by-id/hackers/thang181997/download_solution\n",
    "\n",
    "#### Solution\n",
    "```\n",
    "SELECT * FROM CITY WHERE ID = 1661\n",
    "```"
   ]
  },
  {
   "cell_type": "markdown",
   "metadata": {
    "colab_type": "text",
    "id": "gu4DDH7Ki77C"
   },
   "source": [
    "### Problem 4 - Japanese Cities' Attributes\n",
    "\n",
    "Query all attributes of every Japanese city in the CITY table. The COUNTRYCODE for Japan is JPN.\n",
    "\n",
    "#### Link\n",
    "https://www.hackerrank.com/rest/contests/master/challenges/japanese-cities-attributes/hackers/thang181997/download_solution\n",
    "\n",
    "#### Solution\n",
    "```\n",
    "SELECT * FROM CITY\n",
    "WHERE COUNTRYCODE = 'JPN'\n",
    "```"
   ]
  },
  {
   "cell_type": "markdown",
   "metadata": {
    "colab_type": "text",
    "id": "gu4DDH7Ki77C"
   },
   "source": [
    "### Problem 5 - Japanese Cities' Names\n",
    "\n",
    "Query the names of all the Japanese cities in the CITY table. The COUNTRYCODE for Japan is JPN.\n",
    "\n",
    "#### Link\n",
    "https://www.hackerrank.com/rest/contests/master/challenges/revising-the-select-query-2/hackers/thang181997/download_solution\n",
    "\n",
    "#### Solution\n",
    "```\n",
    "SELECT NAME FROM CITY WHERE COUNTRYCODE = 'JPN'\n",
    "```"
   ]
  },
  {
   "cell_type": "markdown",
   "metadata": {
    "colab_type": "text",
    "id": "gu4DDH7Ki77C"
   },
   "source": [
    "### Problem 6 - Weather Observation Station 1\n",
    "\n",
    "Query a list of CITY and STATE from the STATION table.\n",
    "\n",
    "#### Link\n",
    "https://www.hackerrank.com/rest/contests/master/challenges/weather-observation-station-1/hackers/thang181997/download_solution\n",
    "\n",
    "#### Solution\n",
    "```\n",
    "SELECT CITY, STATE FROM STATION\n",
    "```"
   ]
  },
  {
   "cell_type": "markdown",
   "metadata": {
    "colab_type": "text",
    "id": "gu4DDH7Ki77C"
   },
   "source": [
    "### Problem 7 - Weather Observation Station 3\n",
    "\n",
    "Query a list of CITY names from STATION with even ID numbers only. You may print the results in any order, but must exclude duplicates from your answer.\n",
    "\n",
    "#### Link\n",
    "https://www.hackerrank.com/rest/contests/master/challenges/weather-observation-station-3/hackers/thang181997/download_solution\n",
    "\n",
    "#### Solution\n",
    "```\n",
    "SELECT DISTINCT CITY FROM STATION\n",
    "WHERE (ID % 2)=0 ORDER BY CITY;\n",
    "```"
   ]
  },
  {
   "cell_type": "markdown",
   "metadata": {
    "colab_type": "text",
    "id": "gu4DDH7Ki77C"
   },
   "source": [
    "### Problem 8 - Weather Observation Station 4\n",
    "\n",
    "Let N be the number of CITY entries in STATION, and let N' be the number of distinct CITY names in STATION; query the value of N-N' from STATION. In other words, find the difference between the total number of CITY entries in the table and the number of distinct CITY entries in the table.\n",
    "\n",
    "#### Link\n",
    "https://www.hackerrank.com/rest/contests/master/challenges/weather-observation-station-4/hackers/thang181997/download_solution\n",
    "\n",
    "#### Solution\n",
    "```\n",
    "SELECT COUNT(CITY) - COUNT(DISTINCT CITY)\n",
    "FROM STATION\n",
    "```"
   ]
  },
  {
   "cell_type": "markdown",
   "metadata": {
    "colab_type": "text",
    "id": "gu4DDH7Ki77C"
   },
   "source": [
    "### Problem 9 - Weather Observation Station 5\n",
    "\n",
    "Query the two cities in STATION with the shortest and longest CITY names, as well as their respective lengths (i.e.: number of characters in the name). If there is more than one smallest or largest city, choose the one that comes first when ordered alphabetically.\n",
    "\n",
    "#### Link\n",
    "https://www.hackerrank.com/rest/contests/master/challenges/weather-observation-station-5/hackers/thang181997/download_solution\n",
    "\n",
    "#### Solution\n",
    "```\n",
    "(SELECT CITY, LENGTH(CITY) as LEN_NAME FROM STATION ORDER BY LEN_NAME ASC,CITY LIMIT 1)\n",
    "UNION ALL\n",
    "(SELECT CITY, LENGTH(CITY) as LEN_NAME FROM STATION ORDER BY LEN_NAME DESC,CITY LIMIT 1);\n",
    "```"
   ]
  },
  {
   "cell_type": "markdown",
   "metadata": {
    "colab_type": "text",
    "id": "gu4DDH7Ki77C"
   },
   "source": [
    "### Problem 10 - Weather Observation Station 6\n",
    "\n",
    "Query the list of CITY names starting with vowels (i.e., a, e, i, o, or u) from STATION. Your result cannot contain duplicates.\n",
    "\n",
    "#### Link\n",
    "https://www.hackerrank.com/rest/contests/master/challenges/weather-observation-station-6/hackers/thang181997/download_solution\n",
    "\n",
    "#### Solution\n",
    "```\n",
    "SELECT DISTINCT CITY \n",
    "FROM STATION \n",
    "WHERE CITY REGEXP '^[aeiou]'\n",
    "```\n",
    "\n",
    "#### NOTE\n",
    "Ussing regular exp to match condition in string.\n",
    "\n",
    "| Character | Description |Example|\n",
    "|:----:|:---:|:---:|\n",
    "|[]|A set of characters|\"[a-m]\"|\n",
    "|^|Starts with|\"^hello\"|"
   ]
  },
  {
   "cell_type": "markdown",
   "metadata": {
    "colab_type": "text",
    "id": "gu4DDH7Ki77C"
   },
   "source": [
    "### Problem 11 - Weather Observation Station 7\n",
    "\n",
    "Query the list of CITY names ending with vowels (a, e, i, o, u) from STATION. Your result cannot contain duplicates.\n",
    "\n",
    "#### Link\n",
    "https://www.hackerrank.com/rest/contests/master/challenges/weather-observation-station-7/hackers/thang181997/download_solution\n",
    "\n",
    "#### Solution\n",
    "```\n",
    "SELECT DISTINCT CITY \n",
    "FROM STATION \n",
    "WHERE CITY REGEXP '[aeiou]$'\n",
    "```\n",
    "\n",
    "#### NOTE\n",
    "Ussing regular exp to match condition in string.\n",
    "\n",
    "| Character | Description |Example|\n",
    "|:----:|:---:|:---:|\n",
    "|[]|A set of characters|\"[a-m]\"|\n",
    "|\\$|Ends with|\"world\"|"
   ]
  },
  {
   "cell_type": "markdown",
   "metadata": {
    "colab_type": "text",
    "id": "gu4DDH7Ki77C"
   },
   "source": [
    "### Problem 12 - Weather Observation Station 8\n",
    "\n",
    "Query the list of CITY names from STATION which have vowels (i.e., a, e, i, o, and u) as both their first and last characters. Your result cannot contain duplicates.\n",
    "\n",
    "#### Link\n",
    "https://www.hackerrank.com/rest/contests/master/challenges/weather-observation-station-8/hackers/thang181997/download_solution\n",
    "\n",
    "#### Solution\n",
    "```\n",
    "SELECT DISTINCT CITY \n",
    "FROM STATION \n",
    "WHERE CITY REGEXP '[aeiou]$' AND CITY REGEXP '^[aeiou]'\n",
    "```\n",
    "\n",
    "#### NOTE\n",
    "Ussing regular exp to match condition in string.\n",
    "\n",
    "| Character | Description |Example|\n",
    "|:----:|:---:|:---:|\n",
    "|[]|A set of characters|\"[a-m]\"|\n",
    "|^|Starts with|\"^hello\"|\n",
    "|\\$|Ends with|\"world\"|"
   ]
  },
  {
   "cell_type": "markdown",
   "metadata": {
    "colab_type": "text",
    "id": "gu4DDH7Ki77C"
   },
   "source": [
    "### Problem 13 - Weather Observation Station 9\n",
    "\n",
    "Query the list of CITY names from STATION that do not start with vowels. Your result cannot contain duplicates.\n",
    "\n",
    "#### Link\n",
    "https://www.hackerrank.com/rest/contests/master/challenges/weather-observation-station-9/hackers/thang181997/download_solution\n",
    "\n",
    "#### Solution\n",
    "```\n",
    "SELECT DISTINCT CITY \n",
    "FROM STATION \n",
    "WHERE NOT CITY REGEXP '^[aeiou]'\n",
    "```\n",
    "\n",
    "#### NOTE\n",
    "Ussing regular exp to match condition in string.\n",
    "\n",
    "| Character | Description |Example|\n",
    "|:----:|:---:|:---:|\n",
    "|[]|A set of characters|\"[a-m]\"|\n",
    "|^|Starts with|\"^hello\"|"
   ]
  },
  {
   "cell_type": "markdown",
   "metadata": {
    "colab_type": "text",
    "id": "gu4DDH7Ki77C"
   },
   "source": [
    "### Problem 14 - Weather Observation Station 10\n",
    "\n",
    "Query the list of CITY names from STATION that do not end with vowels. Your result cannot contain duplicates.\n",
    "\n",
    "#### Link\n",
    "https://www.hackerrank.com/rest/contests/master/challenges/weather-observation-station-10/hackers/thang181997/download_solution\n",
    "\n",
    "#### Solution\n",
    "```\n",
    "SELECT DISTINCT CITY \n",
    "FROM STATION \n",
    "WHERE NOT CITY REGEXP '[aeiou]$'\n",
    "```\n",
    "\n",
    "#### NOTE\n",
    "Ussing regular exp to match condition in string.\n",
    "\n",
    "| Character | Description |Example|\n",
    "|:----:|:---:|:---:|\n",
    "|[]|A set of characters|\"[a-m]\"|\n",
    "|\\$|Ends with|\"world\"|"
   ]
  },
  {
   "cell_type": "markdown",
   "metadata": {
    "colab_type": "text",
    "id": "0AxyfiJijJ7T"
   },
   "source": [
    "# Python"
   ]
  },
  {
   "cell_type": "markdown",
   "metadata": {
    "colab_type": "text",
    "id": "PEW8LsB5jLqf"
   },
   "source": [
    "## Problem 1\n",
    "\n",
    "**Task** \n",
    "Read two integers from STDIN and print three lines where:\n",
    "The first line contains the sum of the two numbers.\n",
    "The second line contains the difference of the two numbers (first - second).\n",
    "The third line contains the product of the two numbers.\n",
    "\n",
    "\n",
    "**Input Format**\n",
    "\n",
    "The first line contains the first integer, a. The second line contains the second integer, b.\n",
    "\n",
    "**Output Format**\n",
    "\n",
    "Print Weird if the number is weird; otherwise, print Not Weird."
   ]
  },
  {
   "cell_type": "markdown",
   "metadata": {},
   "source": [
    "**URL Solution in Hackerrank**:\n",
    "https://www.hackerrank.com/rest/contests/master/challenges/python-arithmetic-operators/hackers/thang181997/download_solution"
   ]
  },
  {
   "cell_type": "code",
   "execution_count": 1,
   "metadata": {},
   "outputs": [
    {
     "name": "stdin",
     "output_type": "stream",
     "text": [
      " 5\n",
      " 10\n"
     ]
    },
    {
     "name": "stdout",
     "output_type": "stream",
     "text": [
      "15\n",
      "-5\n",
      "50\n"
     ]
    }
   ],
   "source": [
    "if __name__ == '__main__':\n",
    "    a = int(input())\n",
    "    b = int(input())\n",
    "    print(a+b)\n",
    "    print(a-b)\n",
    "    print(a*b)"
   ]
  },
  {
   "cell_type": "markdown",
   "metadata": {
    "colab_type": "text",
    "id": "PEW8LsB5jLqf"
   },
   "source": [
    "## Problem Python: Division\n",
    "\n",
    "**Task**\n",
    "\n",
    "Read two integers and print two lines. The first line should contain integer division,a //b. The second line should contain float division,  a/b .\n",
    "You don't need to perform any rounding or formatting operations.\n",
    "\n",
    "**Input Format**\n",
    "\n",
    "The first line contains the first integer, a. The second line contains the second integer, b.\n",
    "\n",
    "**Output Format**\n",
    "\n",
    "Print the two lines as described above."
   ]
  },
  {
   "cell_type": "markdown",
   "metadata": {},
   "source": [
    "**URL Solution in Hackerrank**:\n",
    "https://www.hackerrank.com/rest/contests/master/challenges/python-division/hackers/thang181997/download_solution"
   ]
  },
  {
   "cell_type": "code",
   "execution_count": 3,
   "metadata": {},
   "outputs": [
    {
     "name": "stdin",
     "output_type": "stream",
     "text": [
      " 4\n",
      " 3\n"
     ]
    },
    {
     "name": "stdout",
     "output_type": "stream",
     "text": [
      "1\n",
      "1.3333333333333333\n"
     ]
    }
   ],
   "source": [
    "#Code\n",
    "if __name__ == '__main__':\n",
    "    a = int(input())\n",
    "    b = int(input())\n",
    "    print(a//b)\n",
    "    print(a/b)"
   ]
  },
  {
   "cell_type": "markdown",
   "metadata": {
    "colab_type": "text",
    "id": "PEW8LsB5jLqf"
   },
   "source": [
    "## Problem Loops\n",
    "\n",
    "**Task**\n",
    "\n",
    "Read an integer N. For all non-negative integers i<N, print i^2. See the sample for details.\n",
    "\n",
    "**Input Format**\n",
    "\n",
    "The first and only line contains the integer, N.\n",
    "\n",
    "**Output Format**\n",
    "\n",
    "Print N lines, one corresponding to each i."
   ]
  },
  {
   "cell_type": "markdown",
   "metadata": {},
   "source": [
    "**URL Solution in Hackerrank**:https://www.hackerrank.com/rest/contests/master/challenges/python-loops/hackers/thang181997/download_solution\n"
   ]
  },
  {
   "cell_type": "code",
   "execution_count": 5,
   "metadata": {},
   "outputs": [
    {
     "name": "stdin",
     "output_type": "stream",
     "text": [
      " 5\n"
     ]
    },
    {
     "name": "stdout",
     "output_type": "stream",
     "text": [
      "0\n",
      "1\n",
      "4\n",
      "9\n",
      "16\n"
     ]
    }
   ],
   "source": [
    "#Code\n",
    "if __name__ == '__main__':\n",
    "    n = int(input())\n",
    "    for i in range(n):\n",
    "        print(i*i)"
   ]
  },
  {
   "cell_type": "markdown",
   "metadata": {
    "colab_type": "text",
    "id": "PEW8LsB5jLqf"
   },
   "source": [
    "## Problem Write a function\n",
    "\n",
    "**Task**\n",
    "\n",
    "We add a Leap Day on February 29, almost every four years. The leap day is an extra, or intercalary day and we add it to the shortest month of the year, February. \n",
    "In the Gregorian calendar three criteria must be taken into account to identify leap years:\n",
    "The year can be evenly divided by 4, is a leap year, unless:\n",
    "The year can be evenly divided by 100, it is NOT a leap year, unless:\n",
    "The year is also evenly divisible by 400. Then it is a leap year.\n",
    "This means that in the Gregorian calendar, the years 2000 and 2400 are leap years, while 1800, 1900, 2100, 2200, 2300 and 2500 are NOT leap years\n",
    "\n",
    "You are given the year, and you have to write a function to check if the year is leap or not.\n",
    "Note that you have to complete the function and remaining code is given as template.\n",
    "\n",
    "**Input Format**\n",
    "\n",
    "Read y, the year that needs to be checked.\n",
    "\n",
    "**Output Format**\n",
    "\n",
    "Output is taken care of by the template. Your function must return a boolean value (True/False)"
   ]
  },
  {
   "cell_type": "markdown",
   "metadata": {},
   "source": [
    "**URL Solution in Hackerrank**: https://www.hackerrank.com/rest/contests/master/challenges/write-a-function/hackers/thang181997/download_solution\n"
   ]
  },
  {
   "cell_type": "code",
   "execution_count": 8,
   "metadata": {},
   "outputs": [
    {
     "name": "stdin",
     "output_type": "stream",
     "text": [
      " 500\n"
     ]
    },
    {
     "name": "stdout",
     "output_type": "stream",
     "text": [
      "False\n"
     ]
    }
   ],
   "source": [
    "#Code\n",
    "\n",
    "def is_leap(year):\n",
    "    if (year % 4 == 0 and year % 100 != 0) or year % 400 == 0:\n",
    "        return True\n",
    "    return False\n",
    "\n",
    "year = int(input())\n",
    "print(is_leap(year))"
   ]
  },
  {
   "cell_type": "markdown",
   "metadata": {
    "colab_type": "text",
    "id": "PEW8LsB5jLqf"
   },
   "source": [
    "## Problem Print Function\n",
    "\n",
    "**Task**\n",
    "\n",
    "Read an integer N.\n",
    "Without using any string methods, try to print the following:\n",
    "123...N\n",
    "\n",
    "Note that \"...\" represents the values in between.\n",
    "\n",
    "**Input Format**\n",
    "\n",
    "The first line contains an integer N.\n",
    "\n",
    "**Output Format**\n",
    "\n",
    "Output the answer as explained in the task."
   ]
  },
  {
   "cell_type": "markdown",
   "metadata": {},
   "source": [
    "**URL Solution in Hackerrank**: https://www.hackerrank.com/rest/contests/master/challenges/python-print/hackers/thang181997/download_solution"
   ]
  },
  {
   "cell_type": "code",
   "execution_count": 10,
   "metadata": {},
   "outputs": [
    {
     "name": "stdin",
     "output_type": "stream",
     "text": [
      " 5\n"
     ]
    },
    {
     "name": "stdout",
     "output_type": "stream",
     "text": [
      "12345"
     ]
    }
   ],
   "source": [
    "#Code\n",
    "if __name__ == '__main__':\n",
    "    n = int(input())\n",
    "    for i in range(1,n+1):\n",
    "        print(i,end='')\n"
   ]
  },
  {
   "cell_type": "markdown",
   "metadata": {
    "colab_type": "text",
    "id": "PEW8LsB5jLqf"
   },
   "source": [
    "## Problem List Comprehensions\n",
    "\n",
    "**Task**\n",
    "\n",
    "Let's learn about list comprehensions! You are given three integers X, Y and Z representing the dimensions of a cuboid along with an integer N. You have to print a list of all possible coordinates given by (i,j,k) on a 3D grid where the sum of i+j+k is not equal to N.\n",
    "\n",
    "**Input Format**\n",
    "\n",
    "Four integers X,Y,Z and N each on four separate lines, respectively.\n",
    "\n",
    "**Output Format**\n",
    "\n",
    "Print the list in lexicographic increasing order."
   ]
  },
  {
   "cell_type": "markdown",
   "metadata": {},
   "source": [
    "**URL Solution in Hackerrank**: https://www.hackerrank.com/rest/contests/master/challenges/list-comprehensions/hackers/thang181997/download_solution"
   ]
  },
  {
   "cell_type": "code",
   "execution_count": 11,
   "metadata": {},
   "outputs": [
    {
     "name": "stdin",
     "output_type": "stream",
     "text": [
      " 2\n",
      " 2\n",
      " 2\n",
      " 2\n"
     ]
    },
    {
     "name": "stdout",
     "output_type": "stream",
     "text": [
      "[[0, 0, 0], [0, 0, 1], [0, 1, 0], [0, 1, 2], [0, 2, 1], [0, 2, 2], [1, 0, 0], [1, 0, 2], [1, 1, 1], [1, 1, 2], [1, 2, 0], [1, 2, 1], [1, 2, 2], [2, 0, 1], [2, 0, 2], [2, 1, 0], [2, 1, 1], [2, 1, 2], [2, 2, 0], [2, 2, 1], [2, 2, 2]]\n"
     ]
    }
   ],
   "source": [
    "#Code\n",
    "if __name__ == '__main__':\n",
    "    x = int(input())\n",
    "    y = int(input())\n",
    "    z = int(input())\n",
    "    n = int(input())\n",
    "    result = []\n",
    "    for i in range(x+1):\n",
    "        for j in range(y+1):\n",
    "            for k in range(z+1):\n",
    "                if (i+j+k != n):\n",
    "                    result.append([i,j,k])\n",
    "    print(result)"
   ]
  },
  {
   "cell_type": "markdown",
   "metadata": {
    "colab_type": "text",
    "id": "PEW8LsB5jLqf"
   },
   "source": [
    "## Problem Find the Runner-Up Score!\n",
    "\n",
    "**Task**\n",
    "\n",
    "Given the participants' score sheet for your University Sports Day, you are required to find the runner-up score. You are given scores. Store them in a list and find the score of the runner-up.\n",
    "\n",
    "**Input Format**\n",
    "\n",
    "The first line contains n. The second line contains an array A[] of n integers each separated by a space.\n",
    "\n",
    "**Output Format**\n",
    "\n",
    "Print the runner-up score."
   ]
  },
  {
   "cell_type": "markdown",
   "metadata": {},
   "source": [
    "**URL Solution in Hackerrank**: https://www.hackerrank.com/rest/contests/master/challenges/find-second-maximum-number-in-a-list/hackers/thang181997/download_solution"
   ]
  },
  {
   "cell_type": "code",
   "execution_count": 13,
   "metadata": {},
   "outputs": [
    {
     "name": "stdin",
     "output_type": "stream",
     "text": [
      " 5\n",
      " 2 3 6 6 5\n"
     ]
    },
    {
     "name": "stdout",
     "output_type": "stream",
     "text": [
      "5\n"
     ]
    }
   ],
   "source": [
    "#Code\n",
    "if __name__ == '__main__':\n",
    "    n = int(input())\n",
    "    arr_input = input()\n",
    "    arr = list(map(int, arr_input.split()))\n",
    "    max_num = max(arr)\n",
    "    arr = list(filter(lambda a: a != max_num, arr))\n",
    "    run_num = max(arr)\n",
    "    print(run_num)"
   ]
  },
  {
   "cell_type": "markdown",
   "metadata": {
    "colab_type": "text",
    "id": "PEW8LsB5jLqf"
   },
   "source": [
    "## Problem Nested Lists\n",
    "\n",
    "**Task**\n",
    "\n",
    "Given the names and grades for each student in a Physics class of N students, store them in a nested list and print the name(s) of any student(s) having the second lowest grade.\n",
    "Note: If there are multiple students with the same grade, order their names alphabetically and print each name on a new line.\n",
    "\n",
    "**Input Format**\n",
    "\n",
    "The first line contains an integer, N, the number of students. \n",
    "The 2N subsequent lines describe each student over 2 lines; the first line contains a student's name, and the second line contains their grade.\n",
    "\n",
    "**Output Format**\n",
    "\n",
    "Print the name(s) of any student(s) having the second lowest grade in Physics; if there are multiple students, order their names alphabetically and print each one on a new line."
   ]
  },
  {
   "cell_type": "markdown",
   "metadata": {},
   "source": [
    "**URL Solution in Hackerrank**: https://www.hackerrank.com/rest/contests/master/challenges/nested-list/hackers/thang181997/download_solution"
   ]
  },
  {
   "cell_type": "code",
   "execution_count": 15,
   "metadata": {},
   "outputs": [
    {
     "name": "stdin",
     "output_type": "stream",
     "text": [
      " 5\n",
      " Harry\n",
      " 37.21\n",
      " Berry\n",
      " 37.21\n",
      " Tina\n",
      " 3702\n",
      " Akriti\n",
      " 41\n",
      " Harsh\n",
      " 39\n"
     ]
    },
    {
     "name": "stdout",
     "output_type": "stream",
     "text": [
      "Harsh\n"
     ]
    }
   ],
   "source": [
    "#Code\n",
    "if __name__ == '__main__':\n",
    "    student_list = []\n",
    "    for i in range(int(input())):\n",
    "        name = input()\n",
    "        score = float(input())\n",
    "        student_list.append((name,score))\n",
    "    \n",
    "    min_score = min(student_list, key=lambda tup: tup[1])[1]\n",
    "    # del student_list[student_list[1] == min_score]\n",
    "    student_list =  list(filter(lambda x: x[1] != min_score, student_list))\n",
    "    min_score = min(student_list, key=lambda tup: tup[1])[1]\n",
    "    student_list = sorted(student_list, key=lambda tup: (tup[1],tup[0]))\n",
    "    for student in student_list:\n",
    "        if student[1] == min_score:\n",
    "            print(student[0])\n",
    "        else:\n",
    "            break"
   ]
  },
  {
   "cell_type": "markdown",
   "metadata": {
    "colab_type": "text",
    "id": "PEW8LsB5jLqf"
   },
   "source": [
    "## Problem Finding the percentage\n",
    "\n",
    "**Task**\n",
    "\n",
    "You have a record of N students. Each record contains the student's name, and their percent marks in Maths, Physics and Chemistry. The marks can be floating values. The user enters some integer N followed by the names and marks for N students. You are required to save the record in a dictionary data type. The user then enters a student's name. Output the average percentage marks obtained by that student, correct to two decimal places.\n",
    "\n",
    "**Input Format**\n",
    "\n",
    "The first line contains the integer N, the number of students. The next N lines contains the name and marks obtained by that student separated by a space. The final line contains the name of a particular student previously listed.\n",
    "\n",
    "**Output Format**\n",
    "\n",
    "Print one line: The average of the marks obtained by the particular student correct to 2 decimal places."
   ]
  },
  {
   "cell_type": "markdown",
   "metadata": {},
   "source": [
    "**URL Solution in Hackerrank**: https://www.hackerrank.com/rest/contests/master/challenges/finding-the-percentage/hackers/thang181997/download_solution"
   ]
  },
  {
   "cell_type": "code",
   "execution_count": 16,
   "metadata": {},
   "outputs": [
    {
     "name": "stdin",
     "output_type": "stream",
     "text": [
      " 3\n",
      " Krishna 67 68 69\n",
      " Arjun 70 98 63\n",
      " Malika 52 56 60\n",
      " Malika\n"
     ]
    },
    {
     "name": "stdout",
     "output_type": "stream",
     "text": [
      "56.00\n"
     ]
    }
   ],
   "source": [
    "#Code\n",
    "from decimal import Decimal\n",
    "if __name__ == '__main__':\n",
    "    n = int(input())\n",
    "    student_marks = {}\n",
    "    for i in range(n):\n",
    "        name, *line = input().split()\n",
    "        scores = list(map(float, line))\n",
    "        student_marks[name] = scores\n",
    "    query_name = input()\n",
    "    tmp = round(sum(student_marks[query_name])/len(student_marks[query_name]),2)\n",
    "    print(round(Decimal(tmp),2))"
   ]
  }
 ],
 "metadata": {
  "colab": {
   "name": "Copy of DAwP_Assignment_1.ipynb",
   "provenance": [
    {
     "file_id": "1y31-YUTuYM5eLW5rrHVW4JdbhcQZsLgj",
     "timestamp": 1563442667877
    }
   ],
   "version": "0.3.2"
  },
  "kernelspec": {
   "display_name": "Python 3",
   "language": "python",
   "name": "python3"
  },
  "language_info": {
   "codemirror_mode": {
    "name": "ipython",
    "version": 3
   },
   "file_extension": ".py",
   "mimetype": "text/x-python",
   "name": "python",
   "nbconvert_exporter": "python",
   "pygments_lexer": "ipython3",
   "version": "3.6.6"
  }
 },
 "nbformat": 4,
 "nbformat_minor": 4
}
