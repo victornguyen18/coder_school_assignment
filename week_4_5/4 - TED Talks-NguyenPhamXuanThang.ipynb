{
 "cells": [
  {
   "cell_type": "markdown",
   "metadata": {},
   "source": [
    "# Topic 4 - TED Talks - Nguyễn Phạm Xuân Thắng\n",
    "\n",
    "### Google Colab\n",
    "\n",
    "[Link](https://drive.google.com/file/d/1taWC-oC85Kcogj99yg1Koq0Tyor2FXrI/view?usp=sharing)\n",
    "\n",
    "### Data Studio Google\n",
    "\n",
    "[Link](https://datastudio.google.com/open/1jLphf6gqxLBOI0Puob8CTA0eEg28KbrI)"
   ]
  },
  {
   "cell_type": "code",
   "execution_count": null,
   "metadata": {},
   "outputs": [],
   "source": []
  }
 ],
 "metadata": {
  "kernelspec": {
   "display_name": "Python 3",
   "language": "python",
   "name": "python3"
  },
  "language_info": {
   "codemirror_mode": {
    "name": "ipython",
    "version": 3
   },
   "file_extension": ".py",
   "mimetype": "text/x-python",
   "name": "python",
   "nbconvert_exporter": "python",
   "pygments_lexer": "ipython3",
   "version": "3.6.6"
  }
 },
 "nbformat": 4,
 "nbformat_minor": 4
}
